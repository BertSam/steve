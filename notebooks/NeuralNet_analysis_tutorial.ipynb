{
 "cells": [
  {
   "attachments": {},
   "cell_type": "markdown",
   "metadata": {},
   "source": [
    "This notebook describes how to build, train and analyse the neural network for SASE pulses classification. It also contains many useful tool for neural networks in general."
   ]
  },
  {
   "cell_type": "code",
   "execution_count": 1,
   "metadata": {},
   "outputs": [],
   "source": [
    "import h5py\n",
    "import numpy as np\n",
    "import tensorflow as tf\n",
    "import argparse\n",
    "import os\n",
    "import random as rn\n",
    "import matplotlib.pyplot as plt\n",
    "import time\n",
    "\n",
    "\n",
    "NB_CHANNELS = 16\n",
    "NB_LABELS = 5\n",
    "n = 3 # (Number of quantization bits)"
   ]
  },
  {
   "cell_type": "markdown",
   "metadata": {},
   "source": [
    "Helper Functions"
   ]
  },
  {
   "cell_type": "code",
   "execution_count": 2,
   "metadata": {},
   "outputs": [],
   "source": [
    "def use_gpu(Flag):\n",
    "# (0 = GPU, -1 = CPU)    \n",
    "    os.environ['CUDA_VISIBLE_DEVICES'] = Flag  \n",
    "    if tf.test.gpu_device_name():\n",
    "        print('GPU found')\n",
    "    else:\n",
    "        print(\"No GPU found\")\n",
    "    return\n",
    "\n",
    "    \n",
    "def doWeights(model):\n",
    "\n",
    "    allWeightsByLayer = {}\n",
    "    for layer in model.layers:\n",
    "        if (layer._name).find(\"batch\")!=-1 or len(layer.get_weights())<1:\n",
    "            continue \n",
    "        weights=layer.weights[0].numpy().flatten()  \n",
    "        allWeightsByLayer[layer._name] = weights\n",
    "        print('Layer {}: % of zeros = {}'.format(layer._name,np.sum(weights==0)/np.size(weights)))\n",
    "\n",
    "    labelsW = []\n",
    "    histosW = []\n",
    "\n",
    "    for key in reversed(sorted(allWeightsByLayer.keys())):\n",
    "        labelsW.append(key)\n",
    "        histosW.append(allWeightsByLayer[key])\n",
    "\n",
    "    fig = plt.figure(figsize=(10,10))\n",
    "    bins = np.linspace(-1.5, 1.5, 50)\n",
    "    plt.hist(histosW,bins,histtype='stepfilled',stacked=True,label=labelsW, edgecolor='black')\n",
    "    plt.legend(frameon=False,loc='upper left')\n",
    "    plt.ylabel('Number of Weights')\n",
    "    plt.xlabel('Weights')\n",
    "    plt.figtext(0.2, 0.38,model._name, wrap=True, horizontalalignment='left',verticalalignment='center')\n",
    "\n",
    "def get_dense_layer_weights(model):\n",
    "    w = []\n",
    "    b = []\n",
    "    for layer in model.layers:\n",
    "        if (layer._name).find(\"batch\")!=-1 or len(layer.get_weights())<1:\n",
    "            continue \n",
    "        w.append(layer.get_weights()[0])\n",
    "        b.append(layer.get_weights()[1])\n",
    "\n",
    "    return w, b   "
   ]
  },
  {
   "cell_type": "markdown",
   "metadata": {},
   "source": [
    "Setup"
   ]
  },
  {
   "cell_type": "code",
   "execution_count": 3,
   "metadata": {},
   "outputs": [
    {
     "name": "stdout",
     "output_type": "stream",
     "text": [
      "No GPU found\n"
     ]
    }
   ],
   "source": [
    "# Seed Setup\n",
    "seed_value = 1\n",
    "keras_kernel_initializer = 'lecun_uniform'\n",
    "os.environ['PYTHONHASHSEED'] = str(seed_value)\n",
    "\n",
    "# Selecting CPU or GPU     \n",
    "use_gpu('-1')  # ('0' = GPU, '-1' = CPU) (for small fc nn, cpu is faster)     "
   ]
  },
  {
   "cell_type": "markdown",
   "metadata": {},
   "source": [
    "Loading Dataset"
   ]
  },
  {
   "cell_type": "code",
   "execution_count": 4,
   "metadata": {},
   "outputs": [
    {
     "name": "stdout",
     "output_type": "stream",
     "text": [
      "(100000, 16, 8, 1)\n",
      "(100000,)\n"
     ]
    }
   ],
   "source": [
    "# test set\n",
    "X_test = np.load('../dataset/test_set_' + str(n) + 'bits_opt.npz')['X_test']\n",
    "Y_test = np.load('../dataset/test_set_' + str(n) + 'bits_opt.npz')['Y_test']\n",
    "\n",
    "print(X_test.shape)\n",
    "print(Y_test.shape)"
   ]
  },
  {
   "attachments": {},
   "cell_type": "markdown",
   "metadata": {},
   "source": [
    "# Model"
   ]
  },
  {
   "cell_type": "code",
   "execution_count": 5,
   "metadata": {},
   "outputs": [
    {
     "name": "stdout",
     "output_type": "stream",
     "text": [
      "Model: \"fc\"\n",
      "_________________________________________________________________\n",
      "Layer (type)                 Output Shape              Param #   \n",
      "=================================================================\n",
      "flatten (Flatten)            (None, 128)               0         \n",
      "_________________________________________________________________\n",
      "fc1 (Dense)                  (None, 4)                 516       \n",
      "_________________________________________________________________\n",
      "relu1 (ReLU)                 (None, 4)                 0         \n",
      "_________________________________________________________________\n",
      "fc2 (Dense)                  (None, 32)                160       \n",
      "_________________________________________________________________\n",
      "relu2 (ReLU)                 (None, 32)                0         \n",
      "_________________________________________________________________\n",
      "fc3 (Dense)                  (None, 32)                1056      \n",
      "_________________________________________________________________\n",
      "relu3 (ReLU)                 (None, 32)                0         \n",
      "_________________________________________________________________\n",
      "output (Dense)               (None, 5)                 165       \n",
      "_________________________________________________________________\n",
      "output_softmax (Softmax)     (None, 5)                 0         \n",
      "=================================================================\n",
      "Total params: 1,897\n",
      "Trainable params: 1,897\n",
      "Non-trainable params: 0\n",
      "_________________________________________________________________\n"
     ]
    }
   ],
   "source": [
    "from tensorflow.keras.models import Sequential\n",
    "from tensorflow.keras.optimizers import Adam\n",
    "from tensorflow.keras.regularizers import l1\n",
    "from tensorflow.keras.layers import Activation, Input, Flatten, Dense, ReLU, Softmax\n",
    "from tensorflow import keras\n",
    "\n",
    "\n",
    "input_shape = (NB_CHANNELS,2**n,1)\n",
    "\n",
    "model = Sequential(name='fc')\n",
    "model.add(Input(shape=input_shape))\n",
    "model.add(Flatten())\n",
    "\n",
    "model.add(Dense(4, name='fc1',kernel_initializer='lecun_uniform'))\n",
    "model.add(ReLU(name='relu1', max_value=4, negative_slope=0.0, threshold=0.0))\n",
    "\n",
    "model.add(Dense(32, name='fc2',\n",
    "                 kernel_initializer='lecun_uniform', kernel_regularizer=l1(0.0001)))\n",
    "model.add(ReLU(name='relu2', max_value=4, negative_slope=0.0, threshold=0.0))\n",
    "\n",
    "model.add(Dense(32, name='fc3',\n",
    "                 kernel_initializer='lecun_uniform', kernel_regularizer=l1(0.0001)))\n",
    "model.add(ReLU(name='relu3', max_value=4, negative_slope=0.0, threshold=0.0))\n",
    "\n",
    "model.add(Dense(NB_LABELS, name='output',\n",
    "                 kernel_initializer='lecun_uniform', kernel_regularizer=l1(0.0001)))\n",
    "model.add(Softmax(name='output_softmax'))\n",
    "\n",
    "model.compile(optimizer=Adam(learning_rate=0.001), loss='sparse_categorical_crossentropy', metrics='accuracy')\n",
    "\n",
    "model.summary()"
   ]
  },
  {
   "attachments": {},
   "cell_type": "markdown",
   "metadata": {},
   "source": [
    "# Training"
   ]
  },
  {
   "cell_type": "code",
   "execution_count": null,
   "metadata": {},
   "outputs": [],
   "source": [
    "history = model.fit(X_test, Y_test, batch_size=512, epochs=10, validation_split=0.2, shuffle=True)\n",
    "\n",
    "training_loss = history.history['loss']\n",
    "training_acc = history.history['accuracy']\n",
    "val_loss = history.history['val_loss']\n",
    "val_acc = history.history['val_accuracy']"
   ]
  },
  {
   "attachments": {},
   "cell_type": "markdown",
   "metadata": {},
   "source": [
    "Training visualisation"
   ]
  },
  {
   "cell_type": "code",
   "execution_count": null,
   "metadata": {},
   "outputs": [
    {
     "data": {
      "image/png": "[encoded data removed]",
      "text/plain": [
       "<Figure size 640x480 with 1 Axes>"
      ]
     },
     "metadata": {},
     "output_type": "display_data"
    }
   ],
   "source": [
    "plt.plot(training_acc,label='training set')\n",
    "plt.plot(val_acc, label='validation set')\n",
    "plt.xlabel('epoch')\n",
    "plt.ylabel('accuracy')\n",
    "plt.legend()\n",
    "plt.show()"
   ]
  },
  {
   "attachments": {},
   "cell_type": "markdown",
   "metadata": {},
   "source": [
    "# Model analysis"
   ]
  },
  {
   "attachments": {},
   "cell_type": "markdown",
   "metadata": {},
   "source": [
    "Extracting weights"
   ]
  },
  {
   "cell_type": "code",
   "execution_count": null,
   "metadata": {},
   "outputs": [
    {
     "data": {
      "text/plain": [
       "(128, 4)"
      ]
     },
     "execution_count": 71,
     "metadata": {},
     "output_type": "execute_result"
    }
   ],
   "source": [
    "w, b = get_dense_layer_weights(model)\n",
    "\n",
    "w[0].shape    # this is the weights from the first dense layer\n"
   ]
  },
  {
   "attachments": {},
   "cell_type": "markdown",
   "metadata": {},
   "source": [
    "Visualizing weights"
   ]
  },
  {
   "cell_type": "code",
   "execution_count": null,
   "metadata": {},
   "outputs": [
    {
     "name": "stdout",
     "output_type": "stream",
     "text": [
      "Layer fc1: % of zeros = 0.0\n",
      "Layer fc2: % of zeros = 0.0\n",
      "Layer fc3: % of zeros = 0.0\n",
      "Layer output: % of zeros = 0.0\n"
     ]
    },
    {
     "data": {
      "image/png": "[encoded data removed]",
      "text/plain": [
       "<Figure size 1000x1000 with 1 Axes>"
      ]
     },
     "metadata": {},
     "output_type": "display_data"
    }
   ],
   "source": [
    "doWeights(model)"
   ]
  },
  {
   "attachments": {},
   "cell_type": "markdown",
   "metadata": {},
   "source": [
    "Output from intermediate layer"
   ]
  },
  {
   "cell_type": "code",
   "execution_count": null,
   "metadata": {},
   "outputs": [],
   "source": [
    "extractor = keras.Model(inputs=model.inputs,\n",
    "                        outputs=[layer.output for layer in model.layers])\n",
    "features = extractor(X_test[0:3])   # testing with the 3 first images\n",
    "\n",
    "features[1][0].numpy()  # this is the output from the first dense layer with the first test image"
   ]
  },
  {
   "attachments": {},
   "cell_type": "markdown",
   "metadata": {},
   "source": [
    "\n",
    " * MIT License\n",
    " *\n",
    " * Copyright (c) 2022 SLAC National Accelerator Laboratory\n",
    " *\n",
    " * Permission is hereby granted, free of charge, to any person obtaining a copy\n",
    " * of this software and associated documentation files (the \"Software\"), to deal\n",
    " * in the Software without restriction, including without limitation the rights\n",
    " * to use, copy, modify, merge, publish, distribute, sublicense, and/or sell\n",
    " * copies of the Software, and to permit persons to whom the Software is\n",
    " * furnished to do so, subject to the following conditions:\n",
    " *\n",
    " * The above copyright notice and this permission notice shall be included in all\n",
    " * copies or substantial portions of the Software.\n",
    " *\n",
    " * THE SOFTWARE IS PROVIDED \"AS IS\", WITHOUT WARRANTY OF ANY KIND, EXPRESS OR\n",
    " * IMPLIED, INCLUDING BUT NOT LIMITED TO THE WARRANTIES OF MERCHANTABILITY,\n",
    " * FITNESS FOR A PARTICULAR PURPOSE AND NONINFRINGEMENT. IN NO EVENT SHALL THE\n",
    " * AUTHORS OR COPYRIGHT HOLDERS BE LIABLE FOR ANY CLAIM, DAMAGES OR OTHER\n",
    " * LIABILITY, WHETHER IN AN ACTION OF CONTRACT, TORT OR OTHERWISE, ARISING FROM,\n",
    " * OUT OF OR IN CONNECTION WITH THE SOFTWARE OR THE USE OR OTHER DEALINGS IN THE\n",
    " * SOFTWARE.\n",
    " *\n",
    " * Authors : Berthié Gouin-Ferland\n",
    " * Last update : 2022-12-08\n",
    " *\n",
    " * Description : This notebook describes how to build, train and analyse the neural network for SASE pulses classification. It also contains many useful tool for neural networks in general.\n"
   ]
  }
 ],
 "metadata": {
  "kernelspec": {
   "display_name": "venv",
   "language": "python",
   "name": "python3"
  },
  "language_info": {
   "codemirror_mode": {
    "name": "ipython",
    "version": 3
   },
   "file_extension": ".py",
   "mimetype": "text/x-python",
   "name": "python",
   "nbconvert_exporter": "python",
   "pygments_lexer": "ipython3",
   "version": "3.6.8"
  },
  "orig_nbformat": 4,
  "vscode": {
   "interpreter": {
    "hash": "ba03945475f27b561b3172a2ef089f6f0ecab83c35e06741d9ca268ab27676d4"
   }
  }
 },
 "nbformat": 4,
 "nbformat_minor": 2
}
