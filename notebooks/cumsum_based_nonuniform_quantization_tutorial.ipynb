{
 "cells": [
  {
   "attachments": {},
   "cell_type": "markdown",
   "metadata": {},
   "source": [
    "This notebook describes how to do non uniform quantization based on the probability density estimation using the values occurrence cumulative sum."
   ]
  },
  {
   "cell_type": "markdown",
   "metadata": {},
   "source": [
    "Imports"
   ]
  },
  {
   "cell_type": "code",
   "execution_count": 1,
   "metadata": {},
   "outputs": [],
   "source": [
    "import numpy as np\n",
    "import pandas\n",
    "import matplotlib.pyplot as plt\n",
    "import h5py\n",
    "from multiprocess import Pool\n",
    "from tqdm import tqdm\n",
    "import math\n",
    "\n",
    "import matplotlib\n",
    "matplotlib.style.use('seaborn')\n",
    "from ipywidgets import widgets, interactive\n",
    "\n",
    "import sys\n",
    "sys.path.append('../')\n",
    "import nonuniform_quantization"
   ]
  },
  {
   "cell_type": "markdown",
   "metadata": {},
   "source": [
    "File info (modify according to your environment and dataset)"
   ]
  },
  {
   "cell_type": "code",
   "execution_count": 2,
   "metadata": {},
   "outputs": [],
   "source": [
    "file_path = '/sdf/home/b/berthie/tmox42619_data/h5files/hits.tmox42619.run135.h5'\n",
    "good_ports = ['port_0','port_1','port_4','port_5','port_12','port_13','port_14','port_15']"
   ]
  },
  {
   "cell_type": "markdown",
   "metadata": {},
   "source": [
    "Input data"
   ]
  },
  {
   "cell_type": "code",
   "execution_count": 3,
   "metadata": {},
   "outputs": [],
   "source": [
    "f = h5py.File(file_path, 'r')\n",
    "\n",
    "raw_tofs = []\n",
    "for port in good_ports:\n",
    "    temp = np.asarray(f[port]['tofs'][1:])\n",
    "    raw_tofs.append(temp-temp.min())      # I subtract the minimum value so it shifts the spectrum \"left\""
   ]
  },
  {
   "cell_type": "markdown",
   "metadata": {},
   "source": [
    "Cumulative sum"
   ]
  },
  {
   "cell_type": "code",
   "execution_count": 4,
   "metadata": {},
   "outputs": [
    {
     "data": {
      "image/png": "[encoded data removed]",
      "text/plain": [
       "<Figure size 576x396 with 1 Axes>"
      ]
     },
     "metadata": {},
     "output_type": "display_data"
    }
   ],
   "source": [
    "port = 0    # for the sake of the example, I only use one port.\n",
    "\n",
    "all_samples = raw_tofs[port]\n",
    "values, counts = np.unique(all_samples, return_counts=True)\n",
    "cum_counts = np.cumsum(counts)\n",
    "\n",
    "plt.plot(cum_counts)\n",
    "plt.xlabel('Values')\n",
    "plt.ylabel('Cumulative Sum')\n",
    "plt.show()"
   ]
  },
  {
   "cell_type": "markdown",
   "metadata": {},
   "source": [
    "What we see a linear cumulative sum. This is because the distribution is so sparse, every value only appears once per port per run. To compensate that we already need to uniformly quantize the set. By doing so, we will have a first density estimation to do the cumulative sum nonuniform quantization. Note that this first estimation can also be performed with the Lloyd-Max algo as shown in <optimized_quantization_tutorial.ipynb>"
   ]
  },
  {
   "cell_type": "markdown",
   "metadata": {},
   "source": [
    "First density estimation with uniform quantization. You can change the number of bit (n) for the uniform quantization and see the effect on the cumulative sum using the slider in the widget bellow."
   ]
  },
  {
   "cell_type": "code",
   "execution_count": 5,
   "metadata": {},
   "outputs": [
    {
     "data": {
      "application/vnd.jupyter.widget-view+json": {
       "model_id": "03e42d8a6e4b459f94321706a72de5ca",
       "version_major": 2,
       "version_minor": 0
      },
      "text/plain": [
       "interactive(children=(IntSlider(value=10, continuous_update=False, description='n:', max=25, min=1), Output())…"
      ]
     },
     "metadata": {},
     "output_type": "display_data"
    }
   ],
   "source": [
    "def uniform_quantization_cumsum_effect_visualisation(n): \n",
    "    Q = nonuniform_quantization.quantizer(Nb_bits=n)\n",
    "    uni_density_estimation = Q.quantization(all_samples, np.linspace(all_samples.min(), all_samples.max(), num=1+2**n)[1:])\n",
    "\n",
    "    values, counts = np.unique(uni_density_estimation, return_counts=True)\n",
    "    cum_counts = np.cumsum(counts)\n",
    "    cum_counts_prime = np.gradient(cum_counts)\n",
    "\n",
    "    # We use a decimation step \"delta\" to decimate cum_counts\n",
    "    smaller_n = math.floor(math.log2(math.floor(cum_counts.max()/counts.max()))) # this is the highest resolution we can have considering the uniform quantization \n",
    "\n",
    "    delta_y = math.ceil(len(cum_counts)/2**smaller_n)\n",
    "    y_mapping = cum_counts[0:len(cum_counts):delta_y]\n",
    "    y_mapping_prime = np.gradient(y_mapping)\n",
    "\n",
    "    #### THIS IS WHERE THE QUANTIZATION HAPPENS ####\n",
    "    delta_x = math.ceil(len(values)/2**smaller_n)\n",
    "    x_mapping = values[0:len(values):delta_x] # x_mapping is the nonuniformly quantizated values\n",
    "    x_mapping_bin_edges = np.append((x_mapping[:-1] + x_mapping[1:])/2, values.max())\n",
    "\n",
    "\n",
    "    print('Maximum possible bit depth\\n for the nonuniform quantizer: ', smaller_n)\n",
    "\n",
    "    fig, axes = plt.subplots(2, 2)\n",
    "    axes[0][0].plot(cum_counts)\n",
    "    axes[0][0].set_ylabel('Cumulative Sum')\n",
    "\n",
    "    axes[1][0].plot(cum_counts_prime)\n",
    "    axes[1][0].set_xlabel('Index Value')\n",
    "    axes[1][0].set_ylabel('Cumulative sum derivative')\n",
    "\n",
    "    axes[0][1].plot(y_mapping)\n",
    "    axes[1][1].plot(y_mapping_prime)\n",
    "    axes[1][1].set_xlabel('Index Value')\n",
    "    \n",
    "    plt.figure(figsize=(fig.get_size_inches()[0],0.3*fig.get_size_inches()[0]))\n",
    "    plt.plot(x_mapping_bin_edges,np.ones_like(x_mapping_bin_edges) ,'.')\n",
    "    plt.title('Nonuniform bin edges distribution')\n",
    "    plt.xlabel('Bin edges')\n",
    "    plt.show()\n",
    "\n",
    "    plt.hist(all_samples, bins=x_mapping_bin_edges)\n",
    "\n",
    "\n",
    "window_slider = widgets.IntSlider(\n",
    "    value=10,\n",
    "    min=1,\n",
    "    max=25,\n",
    "    step=1,\n",
    "    description='n:',\n",
    "    disabled=False,\n",
    "    continuous_update=False,\n",
    "    orientation='horizontal',\n",
    "    readout=True,\n",
    "    readout_format='d'\n",
    ")\n",
    "\n",
    "interactive(uniform_quantization_cumsum_effect_visualisation, n=window_slider)"
   ]
  },
  {
   "attachments": {},
   "cell_type": "markdown",
   "metadata": {},
   "source": [
    "\n",
    " * MIT License\n",
    " *\n",
    " * Copyright (c) 2022 SLAC National Accelerator Laboratory\n",
    " *\n",
    " * Permission is hereby granted, free of charge, to any person obtaining a copy\n",
    " * of this software and associated documentation files (the \"Software\"), to deal\n",
    " * in the Software without restriction, including without limitation the rights\n",
    " * to use, copy, modify, merge, publish, distribute, sublicense, and/or sell\n",
    " * copies of the Software, and to permit persons to whom the Software is\n",
    " * furnished to do so, subject to the following conditions:\n",
    " *\n",
    " * The above copyright notice and this permission notice shall be included in all\n",
    " * copies or substantial portions of the Software.\n",
    " *\n",
    " * THE SOFTWARE IS PROVIDED \"AS IS\", WITHOUT WARRANTY OF ANY KIND, EXPRESS OR\n",
    " * IMPLIED, INCLUDING BUT NOT LIMITED TO THE WARRANTIES OF MERCHANTABILITY,\n",
    " * FITNESS FOR A PARTICULAR PURPOSE AND NONINFRINGEMENT. IN NO EVENT SHALL THE\n",
    " * AUTHORS OR COPYRIGHT HOLDERS BE LIABLE FOR ANY CLAIM, DAMAGES OR OTHER\n",
    " * LIABILITY, WHETHER IN AN ACTION OF CONTRACT, TORT OR OTHERWISE, ARISING FROM,\n",
    " * OUT OF OR IN CONNECTION WITH THE SOFTWARE OR THE USE OR OTHER DEALINGS IN THE\n",
    " * SOFTWARE.\n",
    " *\n",
    " * Authors : Berthié Gouin-Ferland\n",
    " * Last update : 2022-12-08\n",
    " *\n",
    " * Description : This notebook describes how to do non uniform quantization based on the probability density estimation using the values occurrence cumulative sum.\n"
   ]
  }
 ],
 "metadata": {
  "kernelspec": {
   "display_name": "Python 3",
   "language": "python",
   "name": "python3"
  },
  "language_info": {
   "codemirror_mode": {
    "name": "ipython",
    "version": 3
   },
   "file_extension": ".py",
   "mimetype": "text/x-python",
   "name": "python",
   "nbconvert_exporter": "python",
   "pygments_lexer": "ipython3",
   "version": "3.6.8 (default, Nov 16 2020, 16:55:22) \n[GCC 4.8.5 20150623 (Red Hat 4.8.5-44)]"
  },
  "orig_nbformat": 4,
  "vscode": {
   "interpreter": {
    "hash": "916dbcbb3f70747c44a77c7bcd40155683ae19c65e1c03b4aa3499c5328201f1"
   }
  }
 },
 "nbformat": 4,
 "nbformat_minor": 2
}
